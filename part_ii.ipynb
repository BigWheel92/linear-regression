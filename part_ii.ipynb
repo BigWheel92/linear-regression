{
  "nbformat": 4,
  "nbformat_minor": 0,
  "metadata": {
    "colab": {
      "name": "part ii.ipynb",
      "provenance": [],
      "collapsed_sections": []
    },
    "kernelspec": {
      "name": "python3",
      "display_name": "Python 3"
    },
    "language_info": {
      "name": "python"
    },
    "accelerator": "GPU"
  },
  "cells": [
    {
      "cell_type": "code",
      "metadata": {
        "colab": {
          "base_uri": "https://localhost:8080/"
        },
        "id": "WLxr0YjE75UU",
        "outputId": "f8bb96d3-533a-4783-cd2e-b59772f89bf3"
      },
      "source": [
        "import pandas as pd\n",
        "\n",
        "#reading the comma separated file\n",
        "df = pd.read_csv('ex1data2.txt', header=None)\n",
        "print(df)"
      ],
      "execution_count": null,
      "outputs": [
        {
          "output_type": "stream",
          "name": "stdout",
          "text": [
            "       0  1       2\n",
            "0   2104  3  399900\n",
            "1   1600  3  329900\n",
            "2   2400  3  369000\n",
            "3   1416  2  232000\n",
            "4   3000  4  539900\n",
            "5   1985  4  299900\n",
            "6   1534  3  314900\n",
            "7   1427  3  198999\n",
            "8   1380  3  212000\n",
            "9   1494  3  242500\n",
            "10  1940  4  239999\n",
            "11  2000  3  347000\n",
            "12  1890  3  329999\n",
            "13  4478  5  699900\n",
            "14  1268  3  259900\n",
            "15  2300  4  449900\n",
            "16  1320  2  299900\n",
            "17  1236  3  199900\n",
            "18  2609  4  499998\n",
            "19  3031  4  599000\n",
            "20  1767  3  252900\n",
            "21  1888  2  255000\n",
            "22  1604  3  242900\n",
            "23  1962  4  259900\n",
            "24  3890  3  573900\n",
            "25  1100  3  249900\n",
            "26  1458  3  464500\n",
            "27  2526  3  469000\n",
            "28  2200  3  475000\n",
            "29  2637  3  299900\n",
            "30  1839  2  349900\n",
            "31  1000  1  169900\n",
            "32  2040  4  314900\n",
            "33  3137  3  579900\n",
            "34  1811  4  285900\n",
            "35  1437  3  249900\n",
            "36  1239  3  229900\n",
            "37  2132  4  345000\n",
            "38  4215  4  549000\n",
            "39  2162  4  287000\n",
            "40  1664  2  368500\n",
            "41  2238  3  329900\n",
            "42  2567  4  314000\n",
            "43  1200  3  299000\n",
            "44   852  2  179900\n",
            "45  1852  4  299900\n",
            "46  1203  3  239500\n"
          ]
        }
      ]
    },
    {
      "cell_type": "code",
      "metadata": {
        "colab": {
          "base_uri": "https://localhost:8080/"
        },
        "id": "R9OpTVNp8ER6",
        "outputId": "685aa00c-0acf-4444-ee28-d54c7932d088"
      },
      "source": [
        "import numpy as np\n",
        "#separating dataset into X (independent variables) and Y (dependent variable)\n",
        "X= df.iloc[:, 0:2].values\n",
        "Y= df.iloc[:, 2].values\n",
        "#X=np.reshape(X, (X.shape[0], X.shape[1], 1))\n",
        "Y=np.reshape(Y, (Y.shape[0],1))\n",
        "print(X.shape)\n",
        "print(Y.shape)"
      ],
      "execution_count": null,
      "outputs": [
        {
          "output_type": "stream",
          "name": "stdout",
          "text": [
            "(47, 2)\n",
            "(47, 1)\n"
          ]
        }
      ]
    },
    {
      "cell_type": "code",
      "metadata": {
        "id": "bQw1aAye9xi_"
      },
      "source": [
        "#performing Z-score normalization\n",
        "mean=np.mean(X, axis=0)\n",
        "std= np.std(X, axis=0)\n",
        "X=(X-mean)/std"
      ],
      "execution_count": null,
      "outputs": []
    },
    {
      "cell_type": "code",
      "metadata": {
        "id": "SN-Utu82Hl_e"
      },
      "source": [
        "#defining a plotting function for plotting costs w.r.t iteration number\n",
        "def plotCost(captionText, costsAtAllItrs):\n",
        "  import matplotlib.pyplot as plt\n",
        "  import matplotlib.ticker as plticker\n",
        "\n",
        "  minx= np.min(costsAtAllItrs[:,0])\n",
        "  miny=np.min(costsAtAllItrs[:,1])\n",
        "  maxx=np.max(costsAtAllItrs[:,0])\n",
        "  maxy=np.max(costsAtAllItrs[:,1])\n",
        "  \n",
        "  plt.xlabel('Iteration No.')\n",
        "  plt.ylabel('Cost')\n",
        "  plt.plot(costsAtAllItrs[:,0], costsAtAllItrs[:,1])\n",
        "  plt.figtext(0.5, -0.03, captionText, wrap=True, horizontalalignment='center', fontsize=12)\n",
        "  plt.axis([0, maxx, 0, maxy])  #defining starting value and ending value on each axis\n",
        "  plt.margins(x=0, y=0)\n",
        "\n",
        "  plt.xticks(np.arange(minx, maxx, 5))\n",
        "  plt.show()\n",
        "  print(\"\\n\")"
      ],
      "execution_count": null,
      "outputs": []
    },
    {
      "cell_type": "code",
      "metadata": {
        "colab": {
          "base_uri": "https://localhost:8080/",
          "height": 1000
        },
        "id": "BWvySnAg83IN",
        "outputId": "7fb26633-1051-4a3a-ea5b-beef7d743f41"
      },
      "source": [
        "from Model import LinearRegression\n",
        "\n",
        "model=LinearRegression()\n",
        "\n",
        "#training at learningRate= 0.3 \n",
        "model.fit(X,Y, learningRate=0.3, printCost=False, storeCosts=True, numOfIterations=50)\n",
        "costsAtAllItrs=model.getCostsAtAllIterations()\n",
        "plotCost(\"Cost at Each Iteration for Learning Rate=0.3\", costsAtAllItrs)\n",
        "\n",
        "#training at learningRate= 0.1\n",
        "model.fit(X,Y, learningRate=0.1, printCost=False, storeCosts=True, numOfIterations=50)\n",
        "costsAtAllItrs=model.getCostsAtAllIterations()\n",
        "plotCost(\"Cost at Each Iteration for Learning Rate=0.1\", costsAtAllItrs)\n",
        "\n",
        "#training at learningRate= 0.03\n",
        "model.fit(X,Y, learningRate=0.03, printCost=False, storeCosts=True, numOfIterations=50)\n",
        "costsAtAllItrs=model.getCostsAtAllIterations()\n",
        "plotCost(\"Cost at Each Iteration for Learning Rate=0.03\", costsAtAllItrs)\n",
        "\n",
        "#training at LearningRate=0.01\n",
        "model.fit(X,Y, learningRate=0.01, printCost=False, storeCosts=True, numOfIterations=50)\n",
        "costsAtAllItrs=model.getCostsAtAllIterations()\n",
        "plotCost(\"Cost at Each Iteration for Learning Rate=0.01\", costsAtAllItrs)"
      ],
      "execution_count": null,
      "outputs": [
        {
          "output_type": "display_data",
          "data": {
            "image/png": "[encoded data removed]",
            "text/plain": [
              "<Figure size 432x288 with 1 Axes>"
            ]
          },
          "metadata": {
            "needs_background": "light"
          }
        },
        {
          "output_type": "stream",
          "name": "stdout",
          "text": [
            "\n",
            "\n"
          ]
        },
        {
          "output_type": "display_data",
          "data": {
            "image/png": "[encoded data removed]",
            "text/plain": [
              "<Figure size 432x288 with 1 Axes>"
            ]
          },
          "metadata": {
            "needs_background": "light"
          }
        },
        {
          "output_type": "stream",
          "name": "stdout",
          "text": [
            "\n",
            "\n"
          ]
        },
        {
          "output_type": "display_data",
          "data": {
            "image/png": "[encoded data removed]",
            "text/plain": [
              "<Figure size 432x288 with 1 Axes>"
            ]
          },
          "metadata": {
            "needs_background": "light"
          }
        },
        {
          "output_type": "stream",
          "name": "stdout",
          "text": [
            "\n",
            "\n"
          ]
        },
        {
          "output_type": "display_data",
          "data": {
            "image/png": "[encoded data removed]",
            "text/plain": [
              "<Figure size 432x288 with 1 Axes>"
            ]
          },
          "metadata": {
            "needs_background": "light"
          }
        },
        {
          "output_type": "stream",
          "name": "stdout",
          "text": [
            "\n",
            "\n"
          ]
        }
      ]
    },
    {
      "cell_type": "code",
      "metadata": {
        "colab": {
          "base_uri": "https://localhost:8080/"
        },
        "id": "J4DH7B37WZYd",
        "outputId": "86c6ad68-3410-4361-c254-50019307d66d"
      },
      "source": [
        "#since the graph of cost looked good for learningRate=0.1, so training at this learning rate\n",
        "model.fit(X,Y, learningRate=0.1, printCost=False, storeCosts=False, numOfIterations=50)\n",
        "\n",
        "#predicting the price of house with 1650 sq feet and 3 bedrooms.\n",
        "testX=[1650, 3]\n",
        "testX=np.reshape(testX, (1, np.shape(testX)[0]))\n",
        "testX=(testX-mean)/std\n",
        "predictedY=model.predict(testX)\n",
        "predictedY=np.squeeze(predictedY)\n",
        "print(\"Predicted Price of the house with 1650 sq feet and 3 bedrooms: \"+str(predictedY))\n"
      ],
      "execution_count": null,
      "outputs": [
        {
          "output_type": "stream",
          "name": "stdout",
          "text": [
            "Predicted Price of the house with 1650 sq feet and 3 bedrooms: 304087.05884952267\n"
          ]
        }
      ]
    },
    {
      "cell_type": "code",
      "metadata": {
        "id": "neSVuktnukK4"
      },
      "source": [
        "from Model import NormalEquationLinearRegression\n",
        "#training the linear regression model based on normal equation.\n",
        "model2= NormalEquationLinearRegression();\n",
        "model2.fit(X, Y)"
      ],
      "execution_count": null,
      "outputs": []
    },
    {
      "cell_type": "code",
      "metadata": {
        "colab": {
          "base_uri": "https://localhost:8080/"
        },
        "id": "erJG3TJMxSzS",
        "outputId": "2ec2d66b-f907-44b7-e878-006b4c83eb4e"
      },
      "source": [
        "predictedY=model2.predict(testX)\n",
        "predictedY=np.squeeze(predictedY)\n",
        "print(\"Predicted Price of the house with 1650 sq feet and 3 bedrooms (using normal equation based linear regression): \"+str(predictedY))"
      ],
      "execution_count": null,
      "outputs": [
        {
          "output_type": "stream",
          "name": "stdout",
          "text": [
            "Predicted Price of the house with 1650 sq feet and 3 bedrooms (using normal equation based linear regression): 293081.4643348961\n"
          ]
        }
      ]
    }
  ]
}